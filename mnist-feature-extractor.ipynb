{
 "cells": [
  {
   "attachments": {},
   "cell_type": "markdown",
   "metadata": {},
   "source": [
    "# Feature Extractor on MNIST\n",
    "\n",
    "In this notebook I'd like to use a pretrained model to extract features from the MNIST dataset. I'll use the pretrained SqueezeNet model from PyTorch's torchvision package.\n",
    "\n",
    "https://pytorch.org/tutorials/beginner/finetuning_torchvision_models_tutorial.html\n"
   ]
  },
  {
   "cell_type": "code",
   "execution_count": 1,
   "metadata": {},
   "outputs": [
    {
     "name": "stdout",
     "output_type": "stream",
     "text": [
      "PyTorch Version:  1.13.1\n",
      "Torchvision Version:  0.14.1\n"
     ]
    }
   ],
   "source": [
    "from __future__ import print_function\n",
    "from __future__ import division\n",
    "import torch\n",
    "import torch.nn as nn\n",
    "import torch.optim as optim\n",
    "import numpy as np\n",
    "import torchvision\n",
    "from torchvision import datasets, models, transforms\n",
    "from sklearn.model_selection import train_test_split\n",
    "import matplotlib.pyplot as plt\n",
    "import pandas as pd\n",
    "import time\n",
    "import os\n",
    "import copy\n",
    "print(\"PyTorch Version: \",torch.__version__)\n",
    "print(\"Torchvision Version: \",torchvision.__version__)"
   ]
  },
  {
   "cell_type": "code",
   "execution_count": 2,
   "metadata": {},
   "outputs": [],
   "source": [
    "# - Let's start by loading a pretrained model (i.e. squeezenet) and modifying the last layer to classify 10 classes instead of 1000.\n",
    "\n",
    "# read the train csv file\n",
    "train_df = pd.read_csv('../datasets/digit-recognizer/train.csv')\n",
    "test_df = pd.read_csv('../datasets/digit-recognizer/test.csv')\n",
    "\n",
    "# get the labels\n",
    "labels = train_df['label'].values\n",
    "\n",
    "# drop the label column\n",
    "train_df.drop('label', axis=1, inplace=True)"
   ]
  },
  {
   "cell_type": "code",
   "execution_count": 3,
   "metadata": {},
   "outputs": [
    {
     "name": "stdout",
     "output_type": "stream",
     "text": [
      "Number of image samples to be seen:  16000\n",
      "total number of images:  42000\n"
     ]
    }
   ],
   "source": [
    "# Models to choose from [resnet, alexnet, vgg, squeezenet, densenet, inception]\n",
    "model_name = \"squeezenet\"\n",
    "\n",
    "# Number of classes in the dataset\n",
    "num_classes = 10\n",
    "\n",
    "# Batch size for training (change depending on how much memory you have)\n",
    "batch_size = 32\n",
    "\n",
    "num_iterations = 500\n",
    "\n",
    "# Number of iterations to train for\n",
    "number_of_samples_seen = batch_size * num_iterations\n",
    "print(\"Number of image samples to be seen: \", number_of_samples_seen)\n",
    "print(\"total number of images: \", len(train_df))\n",
    "\n",
    "# Flag for feature extracting. When False, we finetune the whole model,\n",
    "#   when True we only update the reshaped layer params\n",
    "feature_extract = True\n"
   ]
  },
  {
   "cell_type": "code",
   "execution_count": 4,
   "metadata": {},
   "outputs": [
    {
     "data": {
      "text/plain": [
       "(42000, 28000)"
      ]
     },
     "execution_count": 4,
     "metadata": {},
     "output_type": "execute_result"
    }
   ],
   "source": [
    "len(train_df), len(test_df)"
   ]
  },
  {
   "cell_type": "code",
   "execution_count": 5,
   "metadata": {},
   "outputs": [],
   "source": [
    "def set_parameter_requires_grad(model, feature_extracting):\n",
    "    if feature_extracting:\n",
    "        for param in model.parameters():\n",
    "            param.requires_grad = False\n"
   ]
  },
  {
   "cell_type": "code",
   "execution_count": 6,
   "metadata": {},
   "outputs": [],
   "source": [
    "def initialize_model(model_name, num_classes, feature_extract, use_pretrained=True):\n",
    "    # Initialize these variables which will be set in this if statement. Each of these\n",
    "    #   variables is model specific.\n",
    "    model_ft = None\n",
    "    input_size = 0\n",
    "\n",
    "    if model_name == \"resnet\":\n",
    "        \"\"\" Resnet18\n",
    "        \"\"\"\n",
    "        model_ft = models.resnet18(pretrained=use_pretrained)\n",
    "        set_parameter_requires_grad(model_ft, feature_extract)\n",
    "        num_ftrs = model_ft.fc.in_features\n",
    "        model_ft.fc = nn.Linear(num_ftrs, num_classes)\n",
    "        input_size = 224\n",
    "\n",
    "    elif model_name == \"alexnet\":\n",
    "        \"\"\" Alexnet\n",
    "        \"\"\"\n",
    "        model_ft = models.alexnet(pretrained=use_pretrained)\n",
    "        set_parameter_requires_grad(model_ft, feature_extract)\n",
    "        num_ftrs = model_ft.classifier[6].in_features\n",
    "        model_ft.classifier[6] = nn.Linear(num_ftrs,num_classes)\n",
    "        input_size = 224\n",
    "\n",
    "    elif model_name == \"vgg\":\n",
    "        \"\"\" VGG11_bn\n",
    "        \"\"\"\n",
    "        model_ft = models.vgg11_bn(pretrained=use_pretrained)\n",
    "        set_parameter_requires_grad(model_ft, feature_extract)\n",
    "        num_ftrs = model_ft.classifier[6].in_features\n",
    "        model_ft.classifier[6] = nn.Linear(num_ftrs,num_classes)\n",
    "        input_size = 224\n",
    "\n",
    "    elif model_name == \"squeezenet\":\n",
    "        \"\"\" Squeezenet\n",
    "        \"\"\"\n",
    "        model_ft = models.squeezenet1_0(pretrained=use_pretrained)\n",
    "        set_parameter_requires_grad(model_ft, feature_extract)\n",
    "        model_ft.classifier[1] = nn.Conv2d(512, num_classes, kernel_size=(1,1), stride=(1,1))\n",
    "        model_ft.num_classes = num_classes\n",
    "        input_size = 224\n",
    "\n",
    "    elif model_name == \"densenet\":\n",
    "        \"\"\" Densenet\n",
    "        \"\"\"\n",
    "        model_ft = models.densenet121(pretrained=use_pretrained)\n",
    "        set_parameter_requires_grad(model_ft, feature_extract)\n",
    "        num_ftrs = model_ft.classifier.in_features\n",
    "        model_ft.classifier = nn.Linear(num_ftrs, num_classes)\n",
    "        input_size = 224\n",
    "\n",
    "    elif model_name == \"inception\":\n",
    "        \"\"\" Inception v3\n",
    "        Be careful, expects (299,299) sized images and has auxiliary output\n",
    "        \"\"\"\n",
    "        model_ft = models.inception_v3(pretrained=use_pretrained)\n",
    "        set_parameter_requires_grad(model_ft, feature_extract)\n",
    "        # Handle the auxilary net\n",
    "        num_ftrs = model_ft.AuxLogits.fc.in_features\n",
    "        model_ft.AuxLogits.fc = nn.Linear(num_ftrs, num_classes)\n",
    "        # Handle the primary net\n",
    "        num_ftrs = model_ft.fc.in_features\n",
    "        model_ft.fc = nn.Linear(num_ftrs,num_classes)\n",
    "        input_size = 299\n",
    "\n",
    "    else:\n",
    "        print(\"Invalid model name, exiting...\")\n",
    "        exit()\n",
    "\n",
    "    return model_ft, input_size"
   ]
  },
  {
   "cell_type": "code",
   "execution_count": 7,
   "metadata": {},
   "outputs": [
    {
     "data": {
      "image/png": "[encoded data removed]",
      "text/plain": [
       "<Figure size 1000x500 with 10 Axes>"
      ]
     },
     "metadata": {},
     "output_type": "display_data"
    }
   ],
   "source": [
    "# get the images\n",
    "images = train_df.values\n",
    "\n",
    "# reshape the images\n",
    "images = images.reshape((-1, 28, 28))\n",
    "\n",
    "# plot some images\n",
    "fig, ax = plt.subplots(2, 5, figsize=(10, 5))\n",
    "for i in range(2):\n",
    "    for j in range(5):\n",
    "        ax[i, j].imshow(images[i*5 + j], cmap='gray')\n",
    "        ax[i, j].axis('off')\n",
    "plt.show()"
   ]
  },
  {
   "cell_type": "code",
   "execution_count": 8,
   "metadata": {},
   "outputs": [],
   "source": [
    "# create our train and validation splits\n",
    "X_train, X_val, y_train, y_val = train_test_split(images, labels, test_size=0.2, random_state=42)\n",
    "\n",
    "# convert to uint8 numpy arrays for pytorch transforms\n",
    "X_train = np.asarray(X_train, dtype=np.uint8)\n",
    "y_train = np.asarray(y_train, dtype=np.uint8)\n",
    "X_val = np.asarray(X_val, dtype=np.uint8)\n",
    "y_val = np.asarray(y_val, dtype=np.uint8)\n",
    "\n",
    "# print shapes of train test split\n",
    "print(f'X_train.shape: {X_train.shape}')\n",
    "print(f'X_val.shape: {X_val.shape}')\n",
    "print(f'y_train.shape: {y_train.shape}')\n",
    "print(f'y_val.shape: {y_val.shape}')\n",
    "\n",
    "# X_train = X_train[:5000]   # TODO: use only a subset of images for training for now\n",
    "# y_train = y_train[:5000]\n",
    "\n",
    "y_train = torch.tensor(y_train, dtype=torch.long)\n",
    "y_val = torch.tensor(y_val, dtype=torch.long)\n"
   ]
  },
  {
   "cell_type": "code",
   "execution_count": 9,
   "metadata": {},
   "outputs": [],
   "source": [
    "# # # use the entire dataset for training\n",
    "# X_train = np.asarray(images, dtype=np.uint8)\n",
    "# y_train = torch.tensor(labels, dtype=torch.long)"
   ]
  },
  {
   "cell_type": "code",
   "execution_count": null,
   "metadata": {},
   "outputs": [],
   "source": [
    "def get_train_val_loaders(X_train, y_train, X_val, y_val, batch_size=32):\n",
    "    train_transforms = transforms.Compose([\n",
    "        transforms.ToPILImage(),\n",
    "        transforms.RandomRotation(10),\n",
    "        transforms.RandomHorizontalFlip(),\n",
    "        transforms.ToTensor(),\n",
    "        transforms.Normalize((0.1307,), (0.3081,))\n",
    "    ])\n",
    "\n",
    "    val_transforms = transforms.Compose([\n",
    "        transforms.ToPILImage(),\n",
    "        transforms.ToTensor(),\n",
    "        transforms.Normalize((0.1307,), (0.3081,))\n",
    "    ])\n",
    "\n",
    "    train_dataset = TensorDataset(torch.from_numpy(X_train), y_train)\n",
    "    val_dataset = TensorDataset(torch.from_numpy(X_val), y_val)\n",
    "\n",
    "    train_loader = DataLoader(train_dataset, batch_size=batch_size, shuffle=True)\n",
    "    val_loader = DataLoader(val_dataset, batch_size=batch_size, shuffle=False)\n",
    "\n",
    "    return train_loader, val_loader"
   ]
  },
  {
   "cell_type": "code",
   "execution_count": 10,
   "metadata": {},
   "outputs": [],
   "source": [
    "# Detect if we have a GPU available\n",
    "device = torch.device(\"cuda:0\" if torch.cuda.is_available() else \"cpu\")"
   ]
  },
  {
   "cell_type": "code",
   "execution_count": 11,
   "metadata": {},
   "outputs": [],
   "source": [
    "# Update the train model function below to not use dataloaders\n",
    "def train_model(model, x, y, criterion, optimizer, phases=['train', 'val'], num_iterations=num_iterations, is_inception=False):\n",
    "    since = time.time()\n",
    "\n",
    "    losses = []\n",
    "\n",
    "    for phase in phases:\n",
    "        print(f'====Phase====: {phase}')\n",
    "        if phase == 'train':\n",
    "            model.train()  # Set model to training mode\n",
    "        else:\n",
    "            model.eval()   # Set model to evaluate mode\n",
    "\n",
    "        running_loss = 0.0\n",
    "        running_corrects = 0\n",
    "\n",
    "        for i in range(num_iterations):\n",
    "            # generate a batch_size of random indices\n",
    "            indices = np.random.randint(0, len(x), batch_size)\n",
    "            x_batch = x[indices]\n",
    "            y_batch = y[indices]\n",
    "            inputs = (x_batch)\n",
    "            labels = (y_batch)\n",
    "            inputs = inputs.to(device)\n",
    "            labels = labels.to(device)\n",
    "\n",
    "            # zero the parameter gradients\n",
    "            optimizer.zero_grad()\n",
    "\n",
    "            # forward\n",
    "            # track history if only in train\n",
    "            with torch.set_grad_enabled(phase == 'train'):\n",
    "                # Get model outputs and calculate loss\n",
    "                # Special case for inception because in training it has an auxiliary output. In train\n",
    "                #   mode we calculate the loss by summing the final output and the auxiliary output\n",
    "                #   but in testing we only consider the final output.\n",
    "                if is_inception and phase == 'train':\n",
    "                    # From https://discuss.pytorch.org/t/how-to-optimize-inception-model-with-auxiliary-classifiers/7958\n",
    "                    outputs, aux_outputs = model(inputs)\n",
    "                    loss1 = criterion(outputs, labels)\n",
    "                    loss2 = criterion(aux_outputs, labels)\n",
    "                    loss = loss1 + 0.4*loss2\n",
    "                else:\n",
    "                    outputs = model(inputs)\n",
    "                    # print(f'outputs.shape: {outputs.shape}')\n",
    "                    loss = criterion(outputs, labels)\n",
    "\n",
    "                losses.append(loss.item())\n",
    "\n",
    "                if i % 10 == 0:\n",
    "                    print(f'iteration {i}: loss: {loss.item()}')\n",
    "\n",
    "                # print(f'outputs.shape: {outputs.shape}')\n",
    "                _, preds = torch.max(outputs, 1)\n",
    "                # print(f'preds.shape: {preds.shape}')\n",
    "\n",
    "                # backward + optimize only if in training phase\n",
    "                if phase == 'train':\n",
    "                    loss.backward()\n",
    "                    optimizer.step()\n",
    "\n",
    "            # statistics\n",
    "            running_loss += loss.item() * batch_size\n",
    "            # print(f'preds: {preds}')\n",
    "            # print(f'labels: {labels.data}\\n\\n')\n",
    "            running_corrects += torch.sum(preds == labels.data)\n",
    "\n",
    "        # print(f'running_loss: {running_loss}')\n",
    "        # print(f'running_corrects: {running_corrects}')\n",
    "        epoch_loss = running_loss / len(x)\n",
    "        epoch_acc = running_corrects.double() / (batch_size * num_iterations)\n",
    "\n",
    "        print('{} Loss: {:.4f} Acc: {:.4f}'.format(phase, epoch_loss, epoch_acc))\n",
    "\n",
    "\n",
    "    time_elapsed = time.time() - since\n",
    "    print('Training complete in {:.0f}m {:.0f}s'.format(time_elapsed // 60, time_elapsed % 60))\n",
    "    print('Validation Accuracy: {:4f}'.format(epoch_acc))\n",
    "    \n",
    "    return model, losses"
   ]
  },
  {
   "cell_type": "code",
   "execution_count": 12,
   "metadata": {},
   "outputs": [],
   "source": [
    "# TODO delete cell: used for testing cell above quickly to avoid scrolling\n",
    "# model_ft= train_model(model_ft, x, y, criterion, optimizer_ft, num_iterations=100)"
   ]
  },
  {
   "cell_type": "code",
   "execution_count": 13,
   "metadata": {},
   "outputs": [
    {
     "name": "stderr",
     "output_type": "stream",
     "text": [
      "/Users/sammyjaved/opt/anaconda3/lib/python3.9/site-packages/torchvision/models/_utils.py:208: UserWarning: The parameter 'pretrained' is deprecated since 0.13 and may be removed in the future, please use 'weights' instead.\n",
      "  warnings.warn(\n",
      "/Users/sammyjaved/opt/anaconda3/lib/python3.9/site-packages/torchvision/models/_utils.py:223: UserWarning: Arguments other than a weight enum or `None` for 'weights' are deprecated since 0.13 and may be removed in the future. The current behavior is equivalent to passing `weights=SqueezeNet1_0_Weights.IMAGENET1K_V1`. You can also use `weights=SqueezeNet1_0_Weights.DEFAULT` to get the most up-to-date weights.\n",
      "  warnings.warn(msg)\n"
     ]
    }
   ],
   "source": [
    "# Initialize the model for this run\n",
    "num_classes = 10    # 10 classes for digits 0-9 of MNIST dataset\n",
    "model_ft, input_size = initialize_model(model_name, num_classes, feature_extract, use_pretrained=True)\n",
    "\n",
    "# Print the model we just instantiated\n",
    "# print(model_ft)"
   ]
  },
  {
   "cell_type": "code",
   "execution_count": 14,
   "metadata": {},
   "outputs": [],
   "source": [
    "# Separated so in future we can do data augmentation and normalization for training\n",
    "# Just normalization for validation\n",
    "data_transforms = {\n",
    "    'train': transforms.Compose([\n",
    "        transforms.ToPILImage(),\n",
    "        transforms.Grayscale(num_output_channels=3),\n",
    "        transforms.Resize(input_size),\n",
    "        transforms.ToTensor(),\n",
    "        transforms.Normalize([0.485, 0.456, 0.406], [0.229, 0.224, 0.225])\n",
    "    ]),\n",
    "    'val': transforms.Compose([\n",
    "        transforms.ToPILImage(),\n",
    "        transforms.Grayscale(num_output_channels=3),\n",
    "        transforms.Resize(input_size),\n",
    "        transforms.ToTensor(),\n",
    "        transforms.Normalize([0.485, 0.456, 0.406], [0.229, 0.224, 0.225])\n",
    "    ]),\n",
    "}\n"
   ]
  },
  {
   "cell_type": "code",
   "execution_count": 15,
   "metadata": {},
   "outputs": [
    {
     "name": "stdout",
     "output_type": "stream",
     "text": [
      "Params to learn:\n",
      "\t classifier.1.weight\n",
      "\t classifier.1.bias\n"
     ]
    }
   ],
   "source": [
    "# Send the model to GPU\n",
    "model_ft = model_ft.to(device)\n",
    "\n",
    "# Gather the parameters to be optimized/updated in this run. If we are\n",
    "#  finetuning we will be updating all parameters. However, if we are\n",
    "#  doing feature extract method, we will only update the parameters\n",
    "#  that we have just initialized, i.e. the parameters with requires_grad\n",
    "#  is True.\n",
    "params_to_update = model_ft.parameters()\n",
    "print(\"Params to learn:\")\n",
    "if feature_extract:\n",
    "    params_to_update = []\n",
    "    for name,param in model_ft.named_parameters():\n",
    "        if param.requires_grad == True:\n",
    "            params_to_update.append(param)\n",
    "            print(\"\\t\",name)\n",
    "else:\n",
    "    for name,param in model_ft.named_parameters():\n",
    "        if param.requires_grad == True:\n",
    "            print(\"\\t\",name)\n",
    "\n",
    "# Observe that all parameters are being optimized\n",
    "optimizer_ft = optim.SGD(params_to_update, lr=0.001, momentum=0.9)"
   ]
  },
  {
   "cell_type": "code",
   "execution_count": 16,
   "metadata": {},
   "outputs": [],
   "source": [
    "# Setup the loss function\n",
    "criterion = nn.CrossEntropyLoss()"
   ]
  },
  {
   "cell_type": "code",
   "execution_count": 17,
   "metadata": {},
   "outputs": [
    {
     "name": "stderr",
     "output_type": "stream",
     "text": [
      "Clipping input data to the valid range for imshow with RGB data ([0..1] for floats or [0..255] for integers).\n"
     ]
    },
    {
     "data": {
      "text/plain": [
       "<matplotlib.image.AxesImage at 0x7fbed11f5bb0>"
      ]
     },
     "execution_count": 17,
     "metadata": {},
     "output_type": "execute_result"
    },
    {
     "data": {
      "image/png": "[encoded data removed]",
      "text/plain": [
       "<Figure size 640x480 with 1 Axes>"
      ]
     },
     "metadata": {},
     "output_type": "display_data"
    }
   ],
   "source": [
    "# plot a single transformed image\n",
    "plt.imshow(data_transforms['train'](X_train[0]).permute(1, 2, 0)) # permute to convert from CxHxW to HxWxC"
   ]
  },
  {
   "attachments": {},
   "cell_type": "markdown",
   "metadata": {},
   "source": [
    "## Apply data transforms to the training data"
   ]
  },
  {
   "cell_type": "code",
   "execution_count": 18,
   "metadata": {},
   "outputs": [],
   "source": [
    "# Apply the train data transforms on X_train\n",
    "X_train = [data_transforms['train'](x_i) for x_i in X_train]\n",
    "\n",
    "# add batch dimension to x\n",
    "X_train = torch.stack(X_train)"
   ]
  },
  {
   "cell_type": "code",
   "execution_count": null,
   "metadata": {},
   "outputs": [],
   "source": [
    "# # Train and evaluate\n",
    "model_ft, losses = train_model(model_ft, X_train, y_train, criterion, optimizer_ft, ['train'])"
   ]
  },
  {
   "cell_type": "code",
   "execution_count": null,
   "metadata": {},
   "outputs": [],
   "source": [
    "# # Save the model\n",
    "torch.save(model_ft.state_dict(), 'model_ft.pth')"
   ]
  },
  {
   "cell_type": "code",
   "execution_count": null,
   "metadata": {},
   "outputs": [],
   "source": [
    "# plot the training loss\n",
    "num_batch_to_avg = 10\n",
    "plt.plot(torch.tensor(losses).view(-1, num_batch_to_avg).mean(1))\n",
    "plt.title(\"Training Loss vs Number of Batches\")\n",
    "plt.xlabel(f'Batch Number (averaged over {num_batch_to_avg} batches)')\n",
    "plt.ylabel(\"Training Loss\")\n",
    "\n",
    "num_batches = num_iterations // num_batch_to_avg"
   ]
  },
  {
   "attachments": {},
   "cell_type": "markdown",
   "metadata": {},
   "source": [
    "### Evaluate model on a few sample images"
   ]
  },
  {
   "cell_type": "code",
   "execution_count": null,
   "metadata": {},
   "outputs": [],
   "source": [
    "# Evaluate the model on a sample of the training set\n",
    "model_ft.eval()\n",
    "predictions = []\n",
    "expected = []\n",
    "\n",
    "with torch.no_grad():\n",
    "    mini_batch_size = 6\n",
    "    x_ = X_train[:mini_batch_size]\n",
    "    y_ = y_train[:mini_batch_size]\n",
    "    output = model_ft(x_)\n",
    "    _, preds = torch.max(output, 1)\n",
    "    predictions.append(preds)\n",
    "    expected.append(y_)\n",
    "    \n",
    "print(f'predictions: {predictions}')\n",
    "print(f'expected: {expected}')\n"
   ]
  },
  {
   "cell_type": "code",
   "execution_count": null,
   "metadata": {},
   "outputs": [],
   "source": [
    "# plot some images\n",
    "with torch.no_grad():\n",
    "    fig, ax = plt.subplots(1, 6, figsize=(10, 5))\n",
    "    for i in range(6):\n",
    "        img = X_train.permute(0, 2, 3, 1)[i]\n",
    "        ax[i].imshow(img, cmap='gray')\n",
    "        ax[i].axis('off')\n",
    "    plt.show()"
   ]
  },
  {
   "cell_type": "code",
   "execution_count": null,
   "metadata": {},
   "outputs": [],
   "source": [
    "X_val"
   ]
  },
  {
   "cell_type": "code",
   "execution_count": null,
   "metadata": {},
   "outputs": [],
   "source": [
    "# # Apply data transforms to the validation data\n",
    "# X_val = [data_transforms['val'](x_i) for x_i in X_val]\n",
    "\n",
    "# # add batch dimension to x\n",
    "# X_val = torch.stack(X_val)"
   ]
  },
  {
   "cell_type": "code",
   "execution_count": null,
   "metadata": {},
   "outputs": [],
   "source": []
  },
  {
   "attachments": {},
   "cell_type": "markdown",
   "metadata": {},
   "source": [
    "# Make predictions on test set"
   ]
  },
  {
   "cell_type": "code",
   "execution_count": 27,
   "metadata": {},
   "outputs": [],
   "source": [
    "# Evaluate the model on the validation set\n",
    "predictions = []\n",
    "expected = []\n",
    "phases = ['val']    # only evaluate on the validation set\n",
    "# model_ft, val_losses = train_model(model_ft, X_val, y_val, criterion, optimizer_ft, phases)"
   ]
  },
  {
   "cell_type": "code",
   "execution_count": 28,
   "metadata": {},
   "outputs": [],
   "source": [
    "test_images = test_df.values.reshape(-1, 28, 28)\n",
    "test_images = np.asarray(test_images, dtype=np.uint8)\n",
    "test_images = [data_transforms['val'](x_i) for x_i in test_images]\n",
    "test_images = torch.stack(test_images)"
   ]
  },
  {
   "cell_type": "code",
   "execution_count": null,
   "metadata": {},
   "outputs": [],
   "source": [
    "\n",
    "test_images.shape\n"
   ]
  },
  {
   "cell_type": "code",
   "execution_count": null,
   "metadata": {},
   "outputs": [],
   "source": [
    "# Load the model\n",
    "# model_ft.load_state_dict(torch.load('model_ft.pth'))"
   ]
  },
  {
   "cell_type": "code",
   "execution_count": null,
   "metadata": {},
   "outputs": [],
   "source": [
    "len(predictions)"
   ]
  },
  {
   "cell_type": "code",
   "execution_count": null,
   "metadata": {},
   "outputs": [],
   "source": [
    "# make predictions on the test set one image at a time\n",
    "model_ft.eval()\n",
    "with torch.no_grad():\n",
    "    predictions = []\n",
    "    stop = test_images.shape[0]\n",
    "    step = 10\n",
    "    for i in range(0, stop, step):\n",
    "        if i % 100 == 0:\n",
    "            print(f'batch {i} of {stop}')\n",
    "        output = model_ft(test_images[i:i+step])\n",
    "        _, preds = torch.max(output, 1)\n",
    "        predictions.append(preds)"
   ]
  },
  {
   "cell_type": "code",
   "execution_count": null,
   "metadata": {},
   "outputs": [],
   "source": [
    "flattened_predictions = [p.item() for prediction in predictions for p in prediction]\n",
    "len(predictions), len(flattened_predictions)"
   ]
  },
  {
   "cell_type": "code",
   "execution_count": null,
   "metadata": {},
   "outputs": [],
   "source": [
    "# create a submission file\n",
    "submission = pd.DataFrame({'ImageId': range(1, len(flattened_predictions) + 1), 'Label': flattened_predictions})\n",
    "submission.to_csv('squeezenet-feature-extract-on-mnist-submission.csv', index=False)"
   ]
  },
  {
   "cell_type": "code",
   "execution_count": null,
   "metadata": {},
   "outputs": [],
   "source": [
    "model_ft"
   ]
  },
  {
   "attachments": {},
   "cell_type": "markdown",
   "metadata": {},
   "source": [
    "# Learnings and Takeaways  \n",
    "\n",
    "- When I trained the model on all the training data for making test predictions, it performed quite poorly (43% accuracy vs when I trained on 80% of the data with 93% accuracy).  Although I trained for 3000 iterations on the entire dataset instead of 1000 , I had my doubts that the model could overfit this badly.  The bug ended up being that I had casted the images to the wrong data type when using all of the training data.  I should have casted to a numpy uint8 instead of a torch float tensor.  Here's the difference between the two:\n",
    "\n",
    "#### np uint8 image  \n",
    "\n",
    "```\n",
    "train, test = train_test_split(mnist_train, test_size=0.2)\n",
    "X_train = np.asarray(train, dtype=np.uint8)\n",
    "```\n",
    "\n",
    "- Plotting the numpy uint8 image resulted in\n",
    "show image from images/npuint.png in markdown  \n",
    "\n",
    "- ![np uint8 image](./images/np-uint8.png)  \n",
    "\n",
    "\n",
    "\n",
    "#### torch float image  \n",
    "\n",
    "```\n",
    "train, test = train_test_split(mnist_train, test_size=0.2)\n",
    "X_train = torch.tensor(train, dtype=torch.float)\n",
    "```\n",
    "\n",
    "Plotting the torch float image resulted in\n",
    "![torch float image](./images/torch-float.png)  \n",
    "\n",
    "#### Conclusion\n",
    "- So converting to a torch float instead of a numpy uint8 made a huge difference because of all the clipping that happened in the former.   I was able to figure out why because I had plotted a sample image before and after any transformation was done to it\n",
    "- Lesson learned: Although plotting samples to understand the data we have can seem wasteful, it can be quite useful for visual debugging, especially between any code changes that transform our data so we can ensure it's correctness"
   ]
  },
  {
   "attachments": {},
   "cell_type": "markdown",
   "metadata": {},
   "source": [
    "# Fine Tuning the SqueezeNet Model on MNIST"
   ]
  },
  {
   "attachments": {},
   "cell_type": "markdown",
   "metadata": {},
   "source": [
    "- Let's try to fine tune the SqueezeNet model on the MNIST dataset.  I'll use the same data transforms as before, but this time I'll use the pretrained model and fine tune it on the MNIST dataset.  I'll use the same training and validation split as before.  The number of parameters in the model is 1.8 million, which is quite a bit smaller than the 11 million parameters in the original SqueezeNet model.  I'll train the model for 100 iterations and see how it performs."
   ]
  },
  {
   "cell_type": "code",
   "execution_count": 19,
   "metadata": {},
   "outputs": [],
   "source": [
    "feature_extract = False\n",
    "\n",
    "# Initialize the model for this run\n",
    "num_classes = 10    # 10 classes for digits 0-9 of MNIST dataset\n",
    "ft_model, input_size = initialize_model(model_name, num_classes, feature_extract, use_pretrained=True)\n",
    "\n",
    "# Print the model we just instantiated\n",
    "# print(model_ft)"
   ]
  },
  {
   "cell_type": "code",
   "execution_count": 20,
   "metadata": {},
   "outputs": [
    {
     "name": "stdout",
     "output_type": "stream",
     "text": [
      "Params to learn:\n",
      "\t features.0.weight\n",
      "\t features.0.bias\n",
      "\t features.3.squeeze.weight\n",
      "\t features.3.squeeze.bias\n",
      "\t features.3.expand1x1.weight\n",
      "\t features.3.expand1x1.bias\n",
      "\t features.3.expand3x3.weight\n",
      "\t features.3.expand3x3.bias\n",
      "\t features.4.squeeze.weight\n",
      "\t features.4.squeeze.bias\n",
      "\t features.4.expand1x1.weight\n",
      "\t features.4.expand1x1.bias\n",
      "\t features.4.expand3x3.weight\n",
      "\t features.4.expand3x3.bias\n",
      "\t features.5.squeeze.weight\n",
      "\t features.5.squeeze.bias\n",
      "\t features.5.expand1x1.weight\n",
      "\t features.5.expand1x1.bias\n",
      "\t features.5.expand3x3.weight\n",
      "\t features.5.expand3x3.bias\n",
      "\t features.7.squeeze.weight\n",
      "\t features.7.squeeze.bias\n",
      "\t features.7.expand1x1.weight\n",
      "\t features.7.expand1x1.bias\n",
      "\t features.7.expand3x3.weight\n",
      "\t features.7.expand3x3.bias\n",
      "\t features.8.squeeze.weight\n",
      "\t features.8.squeeze.bias\n",
      "\t features.8.expand1x1.weight\n",
      "\t features.8.expand1x1.bias\n",
      "\t features.8.expand3x3.weight\n",
      "\t features.8.expand3x3.bias\n",
      "\t features.9.squeeze.weight\n",
      "\t features.9.squeeze.bias\n",
      "\t features.9.expand1x1.weight\n",
      "\t features.9.expand1x1.bias\n",
      "\t features.9.expand3x3.weight\n",
      "\t features.9.expand3x3.bias\n",
      "\t features.10.squeeze.weight\n",
      "\t features.10.squeeze.bias\n",
      "\t features.10.expand1x1.weight\n",
      "\t features.10.expand1x1.bias\n",
      "\t features.10.expand3x3.weight\n",
      "\t features.10.expand3x3.bias\n",
      "\t features.12.squeeze.weight\n",
      "\t features.12.squeeze.bias\n",
      "\t features.12.expand1x1.weight\n",
      "\t features.12.expand1x1.bias\n",
      "\t features.12.expand3x3.weight\n",
      "\t features.12.expand3x3.bias\n",
      "\t classifier.1.weight\n",
      "\t classifier.1.bias\n"
     ]
    }
   ],
   "source": [
    "# Send the model to GPU\n",
    "ft_model = ft_model.to(device)\n",
    "\n",
    "# Gather the parameters to be optimized/updated in this run. If we are\n",
    "#  finetuning we will be updating all parameters. However, if we are\n",
    "#  doing feature extract method, we will only update the parameters\n",
    "#  that we have just initialized, i.e. the parameters with requires_grad\n",
    "#  is True.\n",
    "params_to_update = ft_model.parameters()\n",
    "print(\"Params to learn:\")\n",
    "if feature_extract:\n",
    "    params_to_update = []\n",
    "    for name,param in ft_model.named_parameters():\n",
    "        if param.requires_grad == True:\n",
    "            params_to_update.append(param)\n",
    "            print(\"\\t\",name)\n",
    "else:\n",
    "    for name,param in ft_model.named_parameters():\n",
    "        if param.requires_grad == True:\n",
    "            print(\"\\t\",name)\n",
    "\n",
    "# Observe that all parameters are being optimized\n",
    "optimizer_ft = optim.SGD(params_to_update, lr=0.001, momentum=0.9)"
   ]
  },
  {
   "cell_type": "code",
   "execution_count": 21,
   "metadata": {},
   "outputs": [
    {
     "name": "stdout",
     "output_type": "stream",
     "text": [
      "====Phase====: train\n",
      "iteration 0: loss: 2.7177114486694336\n",
      "iteration 10: loss: 2.053677558898926\n",
      "iteration 20: loss: 1.4439795017242432\n",
      "iteration 30: loss: 0.9614105224609375\n",
      "iteration 40: loss: 0.39992502331733704\n",
      "iteration 50: loss: 0.5748014450073242\n",
      "iteration 60: loss: 0.37766337394714355\n",
      "iteration 70: loss: 0.262069433927536\n",
      "iteration 80: loss: 0.3393041491508484\n",
      "iteration 90: loss: 0.1504015326499939\n",
      "iteration 100: loss: 0.4353618919849396\n",
      "iteration 110: loss: 0.5812017917633057\n",
      "iteration 120: loss: 0.21263086795806885\n",
      "iteration 130: loss: 0.2753256559371948\n",
      "iteration 140: loss: 0.28047919273376465\n",
      "iteration 150: loss: 0.1839519888162613\n",
      "iteration 160: loss: 0.12061010301113129\n",
      "iteration 170: loss: 0.07180876284837723\n",
      "iteration 180: loss: 0.038873665034770966\n",
      "iteration 190: loss: 0.1554722934961319\n",
      "iteration 200: loss: 0.19175423681735992\n",
      "iteration 210: loss: 0.4869268834590912\n",
      "iteration 220: loss: 0.31577274203300476\n",
      "iteration 230: loss: 0.1362544149160385\n",
      "iteration 240: loss: 0.20282939076423645\n",
      "iteration 250: loss: 0.10427521169185638\n",
      "iteration 260: loss: 0.061645083129405975\n",
      "iteration 270: loss: 0.24889180064201355\n",
      "iteration 280: loss: 0.1429828703403473\n",
      "iteration 290: loss: 0.04417574033141136\n",
      "iteration 300: loss: 0.04456952214241028\n",
      "iteration 310: loss: 0.060214631259441376\n",
      "iteration 320: loss: 0.21687981486320496\n",
      "iteration 330: loss: 0.1276656836271286\n",
      "iteration 340: loss: 0.07835542410612106\n",
      "iteration 350: loss: 0.049358200281858444\n",
      "iteration 360: loss: 0.007188515737652779\n",
      "iteration 370: loss: 0.10814082622528076\n",
      "iteration 380: loss: 0.06239309161901474\n",
      "iteration 390: loss: 0.05025031045079231\n",
      "iteration 400: loss: 0.05099916458129883\n",
      "iteration 410: loss: 0.16184251010417938\n",
      "iteration 420: loss: 0.036094821989536285\n",
      "iteration 430: loss: 0.0720769390463829\n",
      "iteration 440: loss: 0.1498292088508606\n",
      "iteration 450: loss: 0.42860913276672363\n",
      "iteration 460: loss: 0.13611631095409393\n",
      "iteration 470: loss: 0.10771016776561737\n",
      "iteration 480: loss: 0.016412457451224327\n",
      "iteration 490: loss: 0.24437418580055237\n",
      "train Loss: 0.1155 Acc: 0.9003\n",
      "Training complete in 14m 5s\n",
      "Validation Accuracy: 0.900312\n"
     ]
    }
   ],
   "source": [
    "# # Train and evaluate\n",
    "ft_model, ft_losses = train_model(ft_model, X_train, y_train, criterion, optimizer_ft, ['train'])"
   ]
  },
  {
   "cell_type": "code",
   "execution_count": 24,
   "metadata": {},
   "outputs": [
    {
     "data": {
      "text/plain": [
       "500"
      ]
     },
     "execution_count": 24,
     "metadata": {},
     "output_type": "execute_result"
    }
   ],
   "source": [
    "len(ft_losses)"
   ]
  },
  {
   "cell_type": "code",
   "execution_count": null,
   "metadata": {},
   "outputs": [],
   "source": []
  },
  {
   "cell_type": "code",
   "execution_count": 26,
   "metadata": {},
   "outputs": [
    {
     "data": {
      "image/png": "[encoded data removed]",
      "text/plain": [
       "<Figure size 640x480 with 1 Axes>"
      ]
     },
     "metadata": {},
     "output_type": "display_data"
    }
   ],
   "source": [
    "# plot the training loss\n",
    "num_batch_to_avg = 10\n",
    "plt.plot(torch.tensor(ft_losses[100:]).view(-1, num_batch_to_avg).mean(1))\n",
    "plt.title(\"Training Loss vs Number of Batches\")\n",
    "plt.xlabel(f'Batch Number (averaged over {num_batch_to_avg} batches)')\n",
    "plt.ylabel(\"Training Loss\")\n",
    "\n",
    "num_batches = num_iterations // num_batch_to_avg"
   ]
  },
  {
   "cell_type": "code",
   "execution_count": 29,
   "metadata": {},
   "outputs": [
    {
     "name": "stdout",
     "output_type": "stream",
     "text": [
      "batch 0 of 28000\n",
      "batch 100 of 28000\n",
      "batch 200 of 28000\n",
      "batch 300 of 28000\n",
      "batch 400 of 28000\n",
      "batch 500 of 28000\n",
      "batch 600 of 28000\n",
      "batch 700 of 28000\n",
      "batch 800 of 28000\n",
      "batch 900 of 28000\n",
      "batch 1000 of 28000\n",
      "batch 1100 of 28000\n",
      "batch 1200 of 28000\n",
      "batch 1300 of 28000\n",
      "batch 1400 of 28000\n",
      "batch 1500 of 28000\n",
      "batch 1600 of 28000\n",
      "batch 1700 of 28000\n",
      "batch 1800 of 28000\n",
      "batch 1900 of 28000\n",
      "batch 2000 of 28000\n",
      "batch 2100 of 28000\n",
      "batch 2200 of 28000\n",
      "batch 2300 of 28000\n",
      "batch 2400 of 28000\n",
      "batch 2500 of 28000\n",
      "batch 2600 of 28000\n",
      "batch 2700 of 28000\n",
      "batch 2800 of 28000\n",
      "batch 2900 of 28000\n",
      "batch 3000 of 28000\n",
      "batch 3100 of 28000\n",
      "batch 3200 of 28000\n",
      "batch 3300 of 28000\n",
      "batch 3400 of 28000\n",
      "batch 3500 of 28000\n",
      "batch 3600 of 28000\n",
      "batch 3700 of 28000\n",
      "batch 3800 of 28000\n",
      "batch 3900 of 28000\n",
      "batch 4000 of 28000\n",
      "batch 4100 of 28000\n",
      "batch 4200 of 28000\n",
      "batch 4300 of 28000\n",
      "batch 4400 of 28000\n",
      "batch 4500 of 28000\n",
      "batch 4600 of 28000\n",
      "batch 4700 of 28000\n",
      "batch 4800 of 28000\n",
      "batch 4900 of 28000\n",
      "batch 5000 of 28000\n",
      "batch 5100 of 28000\n",
      "batch 5200 of 28000\n",
      "batch 5300 of 28000\n",
      "batch 5400 of 28000\n",
      "batch 5500 of 28000\n",
      "batch 5600 of 28000\n",
      "batch 5700 of 28000\n",
      "batch 5800 of 28000\n",
      "batch 5900 of 28000\n",
      "batch 6000 of 28000\n",
      "batch 6100 of 28000\n",
      "batch 6200 of 28000\n",
      "batch 6300 of 28000\n",
      "batch 6400 of 28000\n",
      "batch 6500 of 28000\n",
      "batch 6600 of 28000\n",
      "batch 6700 of 28000\n",
      "batch 6800 of 28000\n",
      "batch 6900 of 28000\n",
      "batch 7000 of 28000\n",
      "batch 7100 of 28000\n",
      "batch 7200 of 28000\n",
      "batch 7300 of 28000\n",
      "batch 7400 of 28000\n",
      "batch 7500 of 28000\n",
      "batch 7600 of 28000\n",
      "batch 7700 of 28000\n",
      "batch 7800 of 28000\n",
      "batch 7900 of 28000\n",
      "batch 8000 of 28000\n",
      "batch 8100 of 28000\n",
      "batch 8200 of 28000\n",
      "batch 8300 of 28000\n",
      "batch 8400 of 28000\n",
      "batch 8500 of 28000\n",
      "batch 8600 of 28000\n",
      "batch 8700 of 28000\n",
      "batch 8800 of 28000\n",
      "batch 8900 of 28000\n",
      "batch 9000 of 28000\n",
      "batch 9100 of 28000\n",
      "batch 9200 of 28000\n",
      "batch 9300 of 28000\n",
      "batch 9400 of 28000\n",
      "batch 9500 of 28000\n",
      "batch 9600 of 28000\n",
      "batch 9700 of 28000\n",
      "batch 9800 of 28000\n",
      "batch 9900 of 28000\n",
      "batch 10000 of 28000\n",
      "batch 10100 of 28000\n",
      "batch 10200 of 28000\n",
      "batch 10300 of 28000\n",
      "batch 10400 of 28000\n",
      "batch 10500 of 28000\n",
      "batch 10600 of 28000\n",
      "batch 10700 of 28000\n",
      "batch 10800 of 28000\n",
      "batch 10900 of 28000\n",
      "batch 11000 of 28000\n",
      "batch 11100 of 28000\n",
      "batch 11200 of 28000\n",
      "batch 11300 of 28000\n",
      "batch 11400 of 28000\n",
      "batch 11500 of 28000\n",
      "batch 11600 of 28000\n",
      "batch 11700 of 28000\n",
      "batch 11800 of 28000\n",
      "batch 11900 of 28000\n",
      "batch 12000 of 28000\n",
      "batch 12100 of 28000\n",
      "batch 12200 of 28000\n",
      "batch 12300 of 28000\n",
      "batch 12400 of 28000\n",
      "batch 12500 of 28000\n",
      "batch 12600 of 28000\n",
      "batch 12700 of 28000\n",
      "batch 12800 of 28000\n",
      "batch 12900 of 28000\n",
      "batch 13000 of 28000\n",
      "batch 13100 of 28000\n",
      "batch 13200 of 28000\n",
      "batch 13300 of 28000\n",
      "batch 13400 of 28000\n",
      "batch 13500 of 28000\n",
      "batch 13600 of 28000\n",
      "batch 13700 of 28000\n",
      "batch 13800 of 28000\n",
      "batch 13900 of 28000\n",
      "batch 14000 of 28000\n",
      "batch 14100 of 28000\n",
      "batch 14200 of 28000\n",
      "batch 14300 of 28000\n",
      "batch 14400 of 28000\n",
      "batch 14500 of 28000\n",
      "batch 14600 of 28000\n",
      "batch 14700 of 28000\n",
      "batch 14800 of 28000\n",
      "batch 14900 of 28000\n",
      "batch 15000 of 28000\n",
      "batch 15100 of 28000\n",
      "batch 15200 of 28000\n",
      "batch 15300 of 28000\n",
      "batch 15400 of 28000\n",
      "batch 15500 of 28000\n",
      "batch 15600 of 28000\n",
      "batch 15700 of 28000\n",
      "batch 15800 of 28000\n",
      "batch 15900 of 28000\n",
      "batch 16000 of 28000\n",
      "batch 16100 of 28000\n",
      "batch 16200 of 28000\n",
      "batch 16300 of 28000\n",
      "batch 16400 of 28000\n",
      "batch 16500 of 28000\n",
      "batch 16600 of 28000\n",
      "batch 16700 of 28000\n",
      "batch 16800 of 28000\n",
      "batch 16900 of 28000\n",
      "batch 17000 of 28000\n",
      "batch 17100 of 28000\n",
      "batch 17200 of 28000\n",
      "batch 17300 of 28000\n",
      "batch 17400 of 28000\n",
      "batch 17500 of 28000\n",
      "batch 17600 of 28000\n",
      "batch 17700 of 28000\n",
      "batch 17800 of 28000\n",
      "batch 17900 of 28000\n",
      "batch 18000 of 28000\n",
      "batch 18100 of 28000\n",
      "batch 18200 of 28000\n",
      "batch 18300 of 28000\n",
      "batch 18400 of 28000\n",
      "batch 18500 of 28000\n",
      "batch 18600 of 28000\n",
      "batch 18700 of 28000\n",
      "batch 18800 of 28000\n",
      "batch 18900 of 28000\n",
      "batch 19000 of 28000\n",
      "batch 19100 of 28000\n",
      "batch 19200 of 28000\n",
      "batch 19300 of 28000\n",
      "batch 19400 of 28000\n",
      "batch 19500 of 28000\n",
      "batch 19600 of 28000\n",
      "batch 19700 of 28000\n",
      "batch 19800 of 28000\n",
      "batch 19900 of 28000\n",
      "batch 20000 of 28000\n",
      "batch 20100 of 28000\n",
      "batch 20200 of 28000\n",
      "batch 20300 of 28000\n",
      "batch 20400 of 28000\n",
      "batch 20500 of 28000\n",
      "batch 20600 of 28000\n",
      "batch 20700 of 28000\n",
      "batch 20800 of 28000\n",
      "batch 20900 of 28000\n",
      "batch 21000 of 28000\n",
      "batch 21100 of 28000\n",
      "batch 21200 of 28000\n",
      "batch 21300 of 28000\n",
      "batch 21400 of 28000\n",
      "batch 21500 of 28000\n",
      "batch 21600 of 28000\n",
      "batch 21700 of 28000\n",
      "batch 21800 of 28000\n",
      "batch 21900 of 28000\n",
      "batch 22000 of 28000\n",
      "batch 22100 of 28000\n",
      "batch 22200 of 28000\n",
      "batch 22300 of 28000\n",
      "batch 22400 of 28000\n",
      "batch 22500 of 28000\n",
      "batch 22600 of 28000\n",
      "batch 22700 of 28000\n",
      "batch 22800 of 28000\n",
      "batch 22900 of 28000\n",
      "batch 23000 of 28000\n",
      "batch 23100 of 28000\n",
      "batch 23200 of 28000\n",
      "batch 23300 of 28000\n",
      "batch 23400 of 28000\n",
      "batch 23500 of 28000\n",
      "batch 23600 of 28000\n",
      "batch 23700 of 28000\n",
      "batch 23800 of 28000\n",
      "batch 23900 of 28000\n",
      "batch 24000 of 28000\n",
      "batch 24100 of 28000\n",
      "batch 24200 of 28000\n",
      "batch 24300 of 28000\n",
      "batch 24400 of 28000\n",
      "batch 24500 of 28000\n",
      "batch 24600 of 28000\n",
      "batch 24700 of 28000\n",
      "batch 24800 of 28000\n",
      "batch 24900 of 28000\n",
      "batch 25000 of 28000\n",
      "batch 25100 of 28000\n",
      "batch 25200 of 28000\n",
      "batch 25300 of 28000\n",
      "batch 25400 of 28000\n",
      "batch 25500 of 28000\n",
      "batch 25600 of 28000\n",
      "batch 25700 of 28000\n",
      "batch 25800 of 28000\n",
      "batch 25900 of 28000\n",
      "batch 26000 of 28000\n",
      "batch 26100 of 28000\n",
      "batch 26200 of 28000\n",
      "batch 26300 of 28000\n",
      "batch 26400 of 28000\n",
      "batch 26500 of 28000\n",
      "batch 26600 of 28000\n",
      "batch 26700 of 28000\n",
      "batch 26800 of 28000\n",
      "batch 26900 of 28000\n",
      "batch 27000 of 28000\n",
      "batch 27100 of 28000\n",
      "batch 27200 of 28000\n",
      "batch 27300 of 28000\n",
      "batch 27400 of 28000\n",
      "batch 27500 of 28000\n",
      "batch 27600 of 28000\n",
      "batch 27700 of 28000\n",
      "batch 27800 of 28000\n",
      "batch 27900 of 28000\n"
     ]
    }
   ],
   "source": [
    "# make predictions on the test set one image at a time\n",
    "ft_model.eval()\n",
    "with torch.no_grad():\n",
    "    ft_predictions = []\n",
    "    stop = test_images.shape[0]\n",
    "    step = 10\n",
    "    for i in range(0, stop, step):\n",
    "        if i % 100 == 0:\n",
    "            print(f'batch {i} of {stop}')\n",
    "        output = ft_model(test_images[i:i+step])\n",
    "        _, preds = torch.max(output, 1)\n",
    "        ft_predictions.append(preds)"
   ]
  },
  {
   "cell_type": "code",
   "execution_count": 31,
   "metadata": {},
   "outputs": [],
   "source": [
    "flattened_ft_predictions = [p.item() for prediction in ft_predictions for p in prediction]\n",
    "\n",
    "# create a submission file\n",
    "submission = pd.DataFrame({'ImageId': range(1, len(flattened_ft_predictions) + 1), 'Label': flattened_ft_predictions})\n",
    "submission.to_csv('squeezenet-finetuned-on-mnist-submission.csv', index=False)"
   ]
  },
  {
   "cell_type": "code",
   "execution_count": null,
   "metadata": {},
   "outputs": [],
   "source": []
  }
 ],
 "metadata": {
  "kernelspec": {
   "display_name": "base",
   "language": "python",
   "name": "python3"
  },
  "language_info": {
   "codemirror_mode": {
    "name": "ipython",
    "version": 3
   },
   "file_extension": ".py",
   "mimetype": "text/x-python",
   "name": "python",
   "nbconvert_exporter": "python",
   "pygments_lexer": "ipython3",
   "version": "3.9.13"
  },
  "orig_nbformat": 4
 },
 "nbformat": 4,
 "nbformat_minor": 2
}
