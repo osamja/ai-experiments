{
 "cells": [
  {
   "attachments": {},
   "cell_type": "markdown",
   "metadata": {},
   "source": [
    "# Feature Extractor on MNIST\n",
    "\n",
    "In this notebook I'd like to use a pretrained model to extract features from the MNIST dataset. I'll use the pretrained SqueezeNet model from PyTorch's torchvision package.\n",
    "\n",
    "https://pytorch.org/tutorials/beginner/finetuning_torchvision_models_tutorial.html\n"
   ]
  },
  {
   "cell_type": "code",
   "execution_count": 21,
   "metadata": {},
   "outputs": [
    {
     "name": "stdout",
     "output_type": "stream",
     "text": [
      "PyTorch Version:  1.13.1\n",
      "Torchvision Version:  0.14.1\n"
     ]
    }
   ],
   "source": [
    "from __future__ import print_function\n",
    "from __future__ import division\n",
    "import torch\n",
    "import torch.nn as nn\n",
    "import torch.optim as optim\n",
    "import numpy as np\n",
    "import torchvision\n",
    "from torchvision import datasets, models, transforms\n",
    "from sklearn.model_selection import train_test_split\n",
    "import matplotlib.pyplot as plt\n",
    "import pandas as pd\n",
    "import time\n",
    "import os\n",
    "import copy\n",
    "print(\"PyTorch Version: \",torch.__version__)\n",
    "print(\"Torchvision Version: \",torchvision.__version__)"
   ]
  },
  {
   "cell_type": "code",
   "execution_count": 60,
   "metadata": {},
   "outputs": [],
   "source": [
    "# Top level data directory. Here we assume the format of the directory conforms\n",
    "#   to the ImageFolder structure\n",
    "# data_dir = \"./data/hymenoptera_data\"\n",
    "\n",
    "# Models to choose from [resnet, alexnet, vgg, squeezenet, densenet, inception]\n",
    "model_name = \"squeezenet\"\n",
    "\n",
    "# Number of classes in the dataset\n",
    "num_classes = 10\n",
    "\n",
    "# Batch size for training (change depending on how much memory you have)\n",
    "batch_size = 32\n",
    "\n",
    "# Number of epochs to train for\n",
    "num_epochs = 2          #15\n",
    "\n",
    "# Flag for feature extracting. When False, we finetune the whole model,\n",
    "#   when True we only update the reshaped layer params\n",
    "feature_extract = True\n"
   ]
  },
  {
   "cell_type": "code",
   "execution_count": 23,
   "metadata": {},
   "outputs": [],
   "source": [
    "# - Let's start by loading a pretrained model (i.e. squeezenet) and modifying the last layer to classify 10 classes instead of 1000.\n",
    "\n",
    "# read the train csv file\n",
    "train_df = pd.read_csv('../datasets/digit-recognizer/train.csv')\n",
    "test_df = pd.read_csv('../datasets/digit-recognizer/test.csv')\n",
    "\n",
    "# get the labels\n",
    "labels = train_df['label'].values\n",
    "\n",
    "# drop the label column\n",
    "train_df.drop('label', axis=1, inplace=True)"
   ]
  },
  {
   "cell_type": "code",
   "execution_count": 24,
   "metadata": {},
   "outputs": [],
   "source": [
    "def set_parameter_requires_grad(model, feature_extracting):\n",
    "    if feature_extracting:\n",
    "        for param in model.parameters():\n",
    "            param.requires_grad = False\n"
   ]
  },
  {
   "cell_type": "code",
   "execution_count": 25,
   "metadata": {},
   "outputs": [],
   "source": [
    "def initialize_model(model_name, num_classes, feature_extract, use_pretrained=True):\n",
    "    # Initialize these variables which will be set in this if statement. Each of these\n",
    "    #   variables is model specific.\n",
    "    model_ft = None\n",
    "    input_size = 0\n",
    "\n",
    "    if model_name == \"resnet\":\n",
    "        \"\"\" Resnet18\n",
    "        \"\"\"\n",
    "        model_ft = models.resnet18(pretrained=use_pretrained)\n",
    "        set_parameter_requires_grad(model_ft, feature_extract)\n",
    "        num_ftrs = model_ft.fc.in_features\n",
    "        model_ft.fc = nn.Linear(num_ftrs, num_classes)\n",
    "        input_size = 224\n",
    "\n",
    "    elif model_name == \"alexnet\":\n",
    "        \"\"\" Alexnet\n",
    "        \"\"\"\n",
    "        model_ft = models.alexnet(pretrained=use_pretrained)\n",
    "        set_parameter_requires_grad(model_ft, feature_extract)\n",
    "        num_ftrs = model_ft.classifier[6].in_features\n",
    "        model_ft.classifier[6] = nn.Linear(num_ftrs,num_classes)\n",
    "        input_size = 224\n",
    "\n",
    "    elif model_name == \"vgg\":\n",
    "        \"\"\" VGG11_bn\n",
    "        \"\"\"\n",
    "        model_ft = models.vgg11_bn(pretrained=use_pretrained)\n",
    "        set_parameter_requires_grad(model_ft, feature_extract)\n",
    "        num_ftrs = model_ft.classifier[6].in_features\n",
    "        model_ft.classifier[6] = nn.Linear(num_ftrs,num_classes)\n",
    "        input_size = 224\n",
    "\n",
    "    elif model_name == \"squeezenet\":\n",
    "        \"\"\" Squeezenet\n",
    "        \"\"\"\n",
    "        model_ft = models.squeezenet1_0(pretrained=use_pretrained)\n",
    "        set_parameter_requires_grad(model_ft, feature_extract)\n",
    "        model_ft.classifier[1] = nn.Conv2d(512, num_classes, kernel_size=(1,1), stride=(1,1))\n",
    "        model_ft.num_classes = num_classes\n",
    "        input_size = 224\n",
    "\n",
    "    elif model_name == \"densenet\":\n",
    "        \"\"\" Densenet\n",
    "        \"\"\"\n",
    "        model_ft = models.densenet121(pretrained=use_pretrained)\n",
    "        set_parameter_requires_grad(model_ft, feature_extract)\n",
    "        num_ftrs = model_ft.classifier.in_features\n",
    "        model_ft.classifier = nn.Linear(num_ftrs, num_classes)\n",
    "        input_size = 224\n",
    "\n",
    "    elif model_name == \"inception\":\n",
    "        \"\"\" Inception v3\n",
    "        Be careful, expects (299,299) sized images and has auxiliary output\n",
    "        \"\"\"\n",
    "        model_ft = models.inception_v3(pretrained=use_pretrained)\n",
    "        set_parameter_requires_grad(model_ft, feature_extract)\n",
    "        # Handle the auxilary net\n",
    "        num_ftrs = model_ft.AuxLogits.fc.in_features\n",
    "        model_ft.AuxLogits.fc = nn.Linear(num_ftrs, num_classes)\n",
    "        # Handle the primary net\n",
    "        num_ftrs = model_ft.fc.in_features\n",
    "        model_ft.fc = nn.Linear(num_ftrs,num_classes)\n",
    "        input_size = 299\n",
    "\n",
    "    else:\n",
    "        print(\"Invalid model name, exiting...\")\n",
    "        exit()\n",
    "\n",
    "    return model_ft, input_size\n",
    "\n"
   ]
  },
  {
   "cell_type": "code",
   "execution_count": 26,
   "metadata": {},
   "outputs": [
    {
     "data": {
      "image/png": "[encoded data removed]",
      "text/plain": [
       "<Figure size 1000x500 with 10 Axes>"
      ]
     },
     "metadata": {},
     "output_type": "display_data"
    }
   ],
   "source": [
    "# get the images\n",
    "images = train_df.values\n",
    "\n",
    "# reshape the images\n",
    "images = images.reshape((-1, 28, 28))\n",
    "\n",
    "# plot some images\n",
    "fig, ax = plt.subplots(2, 5, figsize=(10, 5))\n",
    "for i in range(2):\n",
    "    for j in range(5):\n",
    "        ax[i, j].imshow(images[i*5 + j], cmap='gray')\n",
    "        ax[i, j].axis('off')\n",
    "plt.show()"
   ]
  },
  {
   "cell_type": "code",
   "execution_count": 27,
   "metadata": {},
   "outputs": [
    {
     "name": "stdout",
     "output_type": "stream",
     "text": [
      "X_train.shape: (33600, 28, 28)\n",
      "X_val.shape: (8400, 28, 28)\n",
      "y_train.shape: (33600,)\n",
      "y_val.shape: (8400,)\n"
     ]
    }
   ],
   "source": [
    "# create our train and validation splits\n",
    "X_train, X_val, y_train, y_val = train_test_split(images, labels, test_size=0.2, random_state=42)\n",
    "\n",
    "# convert to uint8 numpy arrays for pytorch transforms\n",
    "X_train = np.asarray(X_train, dtype=np.uint8)\n",
    "y_train = np.asarray(y_train, dtype=np.uint8)\n",
    "X_val = np.asarray(X_val, dtype=np.uint8)\n",
    "y_val = np.asarray(y_val, dtype=np.uint8)\n",
    "\n",
    "# print shapes of train test split\n",
    "print(f'X_train.shape: {X_train.shape}')\n",
    "print(f'X_val.shape: {X_val.shape}')\n",
    "print(f'y_train.shape: {y_train.shape}')\n",
    "print(f'y_val.shape: {y_val.shape}')\n"
   ]
  },
  {
   "cell_type": "code",
   "execution_count": 61,
   "metadata": {},
   "outputs": [],
   "source": [
    "# Update the train model function below to not use dataloaders\n",
    "def train_model(model, x, y, criterion, optimizer, num_iterations=100, is_inception=False):\n",
    "    since = time.time()\n",
    "\n",
    "    for phase in ['train', 'val']:\n",
    "        print(f'====Phase====: {phase}')\n",
    "        if phase == 'train':\n",
    "            model.train()  # Set model to training mode\n",
    "        else:\n",
    "            model.eval()   # Set model to evaluate mode\n",
    "\n",
    "        running_loss = 0.0\n",
    "        running_corrects = 0\n",
    "\n",
    "        for i in range(num_iterations):\n",
    "            # generate a batch_size of random indices\n",
    "            indices = np.random.randint(0, len(x), batch_size)\n",
    "            x_batch = x[indices]\n",
    "            y_batch = y[indices]\n",
    "            inputs = (x_batch)\n",
    "            labels = (y_batch)\n",
    "            inputs = inputs.to(device)\n",
    "            labels = labels.to(device)\n",
    "\n",
    "            # print(f'inputs.shape: {inputs.shape}')\n",
    "            # print(f'labels.shape: {labels.shape}')\n",
    "\n",
    "            # zero the parameter gradients\n",
    "            optimizer.zero_grad()\n",
    "\n",
    "            # forward\n",
    "            # track history if only in train\n",
    "            with torch.set_grad_enabled(phase == 'train'):\n",
    "                # Get model outputs and calculate loss\n",
    "                # Special case for inception because in training it has an auxiliary output. In train\n",
    "                #   mode we calculate the loss by summing the final output and the auxiliary output\n",
    "                #   but in testing we only consider the final output.\n",
    "                if is_inception and phase == 'train':\n",
    "                    # From https://discuss.pytorch.org/t/how-to-optimize-inception-model-with-auxiliary-classifiers/7958\n",
    "                    outputs, aux_outputs = model(inputs)\n",
    "                    loss1 = criterion(outputs, labels)\n",
    "                    loss2 = criterion(aux_outputs, labels)\n",
    "                    loss = loss1 + 0.4*loss2\n",
    "                else:\n",
    "                    outputs = model(inputs)\n",
    "                    # print(f'outputs.shape: {outputs.shape}')\n",
    "                    loss = criterion(outputs, labels)\n",
    "\n",
    "                # print(f'outputs.shape: {outputs.shape}')\n",
    "                _, preds = torch.max(outputs, 1)\n",
    "                # print(f'preds.shape: {preds.shape}')\n",
    "\n",
    "                # backward + optimize only if in training phase\n",
    "                if phase == 'train':\n",
    "                    loss.backward()\n",
    "                    optimizer.step()\n",
    "\n",
    "            # statistics\n",
    "            running_loss += loss.item() * batch_size\n",
    "            print(f'preds: {preds}')\n",
    "            print(f'labels: {labels.data}\\n\\n')\n",
    "            running_corrects += torch.sum(preds == labels.data)\n",
    "\n",
    "        print(f'running_loss: {running_loss}')\n",
    "        print(f'running_corrects: {running_corrects}')\n",
    "        epoch_loss = running_loss / len(x)\n",
    "        epoch_acc = running_corrects.double() / (batch_size * num_iterations)\n",
    "\n",
    "        print('{} Loss: {:.4f} Acc: {:.4f}'.format(phase, epoch_loss, epoch_acc))\n",
    "\n",
    "\n",
    "    time_elapsed = time.time() - since\n",
    "    print('Training complete in {:.0f}m {:.0f}s'.format(time_elapsed // 60, time_elapsed % 60))\n",
    "    print('val Acc: {:4f}'.format(epoch_acc))\n",
    "    \n",
    "    return model"
   ]
  },
  {
   "cell_type": "code",
   "execution_count": 62,
   "metadata": {},
   "outputs": [
    {
     "name": "stdout",
     "output_type": "stream",
     "text": [
      "====Phase====: train\n",
      "preds: tensor([7, 6, 3, 0, 6, 1, 3, 0, 9, 8, 8, 3, 9, 7, 5, 9, 0, 1, 8, 1, 5, 3, 6, 4,\n",
      "        6, 6, 8, 7, 5, 6, 3, 8])\n",
      "labels: tensor([7, 6, 3, 0, 6, 1, 3, 0, 9, 8, 8, 3, 9, 7, 5, 9, 0, 1, 8, 1, 5, 3, 6, 4,\n",
      "        6, 6, 8, 7, 5, 6, 3, 8])\n",
      "\n",
      "\n",
      "preds: tensor([0, 9, 6, 6, 6, 6, 5, 4, 5, 6, 9, 9, 6, 3, 9, 3, 7, 9, 5, 8, 7, 7, 0, 6,\n",
      "        1, 0, 0, 6, 7, 7, 5, 6])\n",
      "labels: tensor([0, 9, 6, 6, 6, 6, 5, 4, 5, 6, 9, 9, 6, 3, 9, 3, 7, 9, 5, 8, 7, 7, 0, 6,\n",
      "        1, 0, 0, 6, 7, 7, 5, 6])\n",
      "\n",
      "\n",
      "preds: tensor([6, 8, 8, 4, 1, 3, 7, 1, 7, 5, 3, 3, 0, 6, 9, 0, 7, 6, 5, 7, 1, 8, 8, 9,\n",
      "        6, 6, 3, 5, 5, 0, 3, 1])\n",
      "labels: tensor([6, 8, 8, 4, 1, 3, 7, 1, 7, 5, 3, 3, 0, 6, 9, 0, 7, 6, 5, 7, 1, 8, 8, 9,\n",
      "        6, 6, 3, 5, 5, 0, 3, 1])\n",
      "\n",
      "\n",
      "preds: tensor([1, 5, 9, 0, 3, 0, 3, 5, 7, 7, 3, 5, 3, 7, 3, 7, 4, 0, 6, 8, 0, 7, 1, 3,\n",
      "        3, 6, 3, 9, 8, 6, 7, 3])\n",
      "labels: tensor([1, 5, 9, 0, 3, 0, 3, 5, 7, 7, 3, 5, 3, 7, 3, 7, 4, 0, 6, 8, 0, 7, 1, 3,\n",
      "        3, 6, 3, 9, 8, 6, 7, 3])\n",
      "\n",
      "\n",
      "preds: tensor([3, 0, 7, 7, 1, 9, 7, 6, 0, 5, 3, 7, 0, 6, 9, 0, 4, 8, 6, 7, 3, 9, 1, 3,\n",
      "        7, 3, 0, 9, 6, 6, 6, 8])\n",
      "labels: tensor([3, 0, 7, 7, 1, 9, 7, 6, 0, 5, 3, 7, 0, 6, 9, 0, 4, 8, 6, 7, 3, 9, 1, 3,\n",
      "        7, 3, 0, 9, 6, 6, 6, 8])\n",
      "\n",
      "\n",
      "preds: tensor([5, 6, 1, 7, 0, 7, 7, 3, 7, 7, 0, 3, 9, 7, 5, 3, 8, 3, 3, 6, 3, 0, 9, 8,\n",
      "        0, 3, 7, 6, 3, 7, 1, 5])\n",
      "labels: tensor([5, 6, 1, 7, 0, 7, 7, 3, 7, 7, 0, 3, 9, 7, 5, 3, 8, 3, 3, 6, 3, 0, 9, 8,\n",
      "        0, 3, 7, 6, 3, 7, 1, 5])\n",
      "\n",
      "\n",
      "preds: tensor([3, 3, 1, 6, 9, 9, 1, 0, 3, 3, 0, 6, 3, 5, 3, 3, 7, 1, 5, 7, 3, 9, 4, 1,\n",
      "        3, 9, 3, 7, 7, 1, 9, 3])\n",
      "labels: tensor([3, 3, 1, 6, 9, 9, 1, 0, 3, 3, 0, 6, 3, 5, 3, 3, 7, 1, 5, 7, 3, 9, 4, 1,\n",
      "        3, 9, 3, 7, 7, 1, 9, 3])\n",
      "\n",
      "\n",
      "preds: tensor([9, 3, 3, 9, 3, 9, 3, 1, 0, 1, 7, 7, 5, 5, 5, 7, 6, 1, 4, 6, 0, 0, 3, 7,\n",
      "        8, 6, 6, 3, 1, 4, 0, 7])\n",
      "labels: tensor([9, 3, 3, 9, 3, 9, 3, 1, 0, 1, 7, 7, 5, 5, 5, 7, 6, 1, 4, 6, 0, 0, 3, 7,\n",
      "        8, 6, 6, 3, 1, 4, 0, 7])\n",
      "\n",
      "\n",
      "preds: tensor([6, 5, 0, 0, 6, 6, 0, 8, 3, 9, 6, 9, 1, 7, 8, 0, 8, 7, 9, 0, 8, 6, 3, 0,\n",
      "        9, 4, 6, 9, 1, 7, 5, 1])\n",
      "labels: tensor([6, 5, 0, 0, 6, 6, 0, 8, 3, 9, 6, 9, 1, 7, 8, 0, 8, 7, 9, 0, 8, 6, 3, 0,\n",
      "        9, 4, 6, 9, 1, 7, 5, 1])\n",
      "\n",
      "\n",
      "preds: tensor([0, 7, 6, 5, 5, 6, 9, 3, 5, 7, 6, 9, 1, 8, 0, 6, 3, 6, 8, 9, 6, 0, 0, 0,\n",
      "        1, 3, 0, 9, 1, 8, 0, 6])\n",
      "labels: tensor([0, 7, 6, 5, 5, 6, 9, 3, 5, 7, 6, 9, 1, 8, 0, 6, 3, 6, 8, 9, 6, 0, 0, 0,\n",
      "        1, 3, 0, 9, 1, 8, 0, 6])\n",
      "\n",
      "\n",
      "running_loss: 9.915421485900879\n",
      "running_corrects: 320\n",
      "train Loss: 0.1983 Acc: 1.0000\n",
      "====Phase====: val\n",
      "preds: tensor([7, 3, 7, 3, 3, 3, 5, 7, 8, 8, 0, 4, 9, 1, 3, 3, 7, 9, 3, 1, 9, 8, 6, 3,\n",
      "        5, 5, 0, 7, 0, 3, 7, 6])\n",
      "labels: tensor([7, 3, 7, 3, 3, 3, 5, 7, 8, 8, 0, 4, 9, 1, 3, 3, 7, 9, 3, 1, 9, 8, 6, 3,\n",
      "        5, 5, 0, 7, 0, 3, 7, 6])\n",
      "\n",
      "\n",
      "preds: tensor([3, 1, 9, 4, 1, 8, 5, 5, 0, 5, 6, 5, 9, 7, 5, 3, 7, 6, 5, 8, 3, 8, 7, 3,\n",
      "        5, 0, 3, 8, 1, 7, 6, 0])\n",
      "labels: tensor([3, 1, 9, 4, 1, 8, 5, 5, 0, 5, 6, 5, 9, 7, 5, 3, 7, 6, 5, 8, 3, 8, 7, 3,\n",
      "        5, 0, 3, 8, 1, 7, 6, 0])\n",
      "\n",
      "\n",
      "preds: tensor([3, 0, 5, 3, 9, 3, 7, 9, 0, 7, 7, 3, 5, 6, 6, 5, 8, 6, 0, 4, 1, 3, 3, 3,\n",
      "        0, 3, 3, 3, 1, 0, 7, 6])\n",
      "labels: tensor([3, 0, 5, 3, 9, 3, 7, 9, 0, 7, 7, 3, 5, 6, 6, 5, 8, 6, 0, 4, 1, 3, 3, 3,\n",
      "        0, 3, 3, 3, 1, 0, 7, 6])\n",
      "\n",
      "\n",
      "preds: tensor([6, 7, 6, 8, 7, 0, 3, 3, 4, 3, 7, 8, 7, 3, 7, 1, 6, 5, 8, 3, 4, 3, 7, 5,\n",
      "        9, 3, 8, 7, 9, 9, 3, 6])\n",
      "labels: tensor([6, 7, 6, 8, 7, 0, 3, 3, 4, 3, 7, 8, 7, 3, 7, 1, 6, 5, 8, 3, 4, 3, 7, 5,\n",
      "        9, 3, 8, 7, 9, 9, 3, 6])\n",
      "\n",
      "\n",
      "preds: tensor([3, 0, 8, 7, 9, 3, 6, 3, 3, 4, 1, 9, 0, 6, 6, 3, 7, 1, 9, 5, 0, 6, 0, 0,\n",
      "        4, 5, 7, 9, 3, 0, 0, 0])\n",
      "labels: tensor([3, 0, 8, 7, 9, 3, 6, 3, 3, 4, 1, 9, 0, 6, 6, 3, 7, 1, 9, 5, 0, 6, 0, 0,\n",
      "        4, 5, 7, 9, 3, 0, 0, 0])\n",
      "\n",
      "\n",
      "preds: tensor([5, 0, 4, 3, 8, 9, 5, 1, 6, 3, 3, 6, 0, 9, 5, 0, 5, 3, 6, 9, 5, 5, 1, 7,\n",
      "        0, 7, 9, 3, 3, 0, 0, 4])\n",
      "labels: tensor([5, 0, 4, 3, 8, 9, 5, 1, 6, 3, 3, 6, 0, 9, 5, 0, 5, 3, 6, 9, 5, 5, 1, 7,\n",
      "        0, 7, 9, 3, 3, 0, 0, 4])\n",
      "\n",
      "\n",
      "preds: tensor([3, 7, 7, 1, 0, 1, 9, 3, 4, 0, 8, 5, 6, 6, 3, 6, 3, 8, 8, 3, 3, 6, 3, 8,\n",
      "        7, 8, 0, 6, 1, 5, 6, 8])\n",
      "labels: tensor([3, 7, 7, 1, 0, 1, 9, 3, 4, 0, 8, 5, 6, 6, 3, 6, 3, 8, 8, 3, 3, 6, 3, 8,\n",
      "        7, 8, 0, 6, 1, 5, 6, 8])\n",
      "\n",
      "\n",
      "preds: tensor([8, 9, 1, 3, 6, 1, 0, 7, 6, 0, 7, 8, 5, 8, 7, 3, 6, 3, 8, 6, 3, 3, 0, 7,\n",
      "        6, 6, 3, 7, 9, 3, 6, 3])\n",
      "labels: tensor([8, 9, 1, 3, 6, 1, 0, 7, 6, 0, 7, 8, 5, 8, 7, 3, 6, 3, 8, 6, 3, 3, 0, 7,\n",
      "        6, 6, 3, 7, 9, 3, 6, 3])\n",
      "\n",
      "\n",
      "preds: tensor([3, 0, 4, 4, 7, 6, 7, 0, 4, 0, 8, 0, 9, 8, 6, 3, 1, 6, 1, 7, 3, 8, 6, 0,\n",
      "        3, 3, 7, 0, 3, 1, 6, 3])\n",
      "labels: tensor([3, 0, 4, 4, 7, 6, 7, 0, 4, 0, 8, 0, 9, 8, 6, 3, 1, 6, 1, 7, 3, 8, 6, 0,\n",
      "        3, 3, 7, 0, 3, 1, 6, 3])\n",
      "\n",
      "\n",
      "preds: tensor([3, 3, 6, 7, 9, 0, 6, 3, 5, 9, 3, 7, 0, 9, 8, 9, 6, 7, 4, 4, 9, 0, 9, 1,\n",
      "        8, 7, 3, 6, 1, 6, 9, 7])\n",
      "labels: tensor([3, 3, 6, 7, 9, 0, 6, 3, 5, 9, 3, 7, 0, 9, 8, 9, 6, 7, 4, 4, 9, 0, 9, 1,\n",
      "        8, 7, 3, 6, 1, 6, 9, 7])\n",
      "\n",
      "\n",
      "running_loss: 7.303024053573608\n",
      "running_corrects: 320\n",
      "val Loss: 0.1461 Acc: 1.0000\n",
      "Training complete in 0m 8s\n",
      "val Acc: 1.000000\n"
     ]
    }
   ],
   "source": [
    "# TODO: DELETE THIS CELL\n",
    "model_ft= train_model(model_ft, x, y, criterion, optimizer_ft, num_iterations=10, is_inception=(model_name==\"inception\"))"
   ]
  },
  {
   "cell_type": "code",
   "execution_count": 30,
   "metadata": {},
   "outputs": [],
   "source": [
    "# model_ft"
   ]
  },
  {
   "cell_type": "code",
   "execution_count": 31,
   "metadata": {},
   "outputs": [
    {
     "name": "stderr",
     "output_type": "stream",
     "text": [
      "/Users/sammyjaved/opt/anaconda3/lib/python3.9/site-packages/torchvision/models/_utils.py:208: UserWarning: The parameter 'pretrained' is deprecated since 0.13 and may be removed in the future, please use 'weights' instead.\n",
      "  warnings.warn(\n",
      "/Users/sammyjaved/opt/anaconda3/lib/python3.9/site-packages/torchvision/models/_utils.py:223: UserWarning: Arguments other than a weight enum or `None` for 'weights' are deprecated since 0.13 and may be removed in the future. The current behavior is equivalent to passing `weights=SqueezeNet1_0_Weights.IMAGENET1K_V1`. You can also use `weights=SqueezeNet1_0_Weights.DEFAULT` to get the most up-to-date weights.\n",
      "  warnings.warn(msg)\n"
     ]
    }
   ],
   "source": [
    "# Initialize the model for this run\n",
    "num_classes = 10    # 10 classes for digits 0-9 of MNIST dataset\n",
    "model_ft, input_size = initialize_model(model_name, num_classes, feature_extract, use_pretrained=True)\n",
    "\n",
    "# Print the model we just instantiated\n",
    "# print(model_ft)"
   ]
  },
  {
   "cell_type": "code",
   "execution_count": 32,
   "metadata": {},
   "outputs": [],
   "source": [
    "# Data augmentation and normalization for training\n",
    "# Just normalization for validation\n",
    "data_transforms = {\n",
    "    'train': transforms.Compose([\n",
    "        transforms.ToPILImage(),\n",
    "        # add transform to convert grayscale to rgb\n",
    "        transforms.Grayscale(num_output_channels=3),\n",
    "        # transforms.RandomResizedCrop(input_size),\n",
    "        # resize image to input size\n",
    "        transforms.Resize(input_size),\n",
    "        # transforms.RandomHorizontalFlip(),\n",
    "        transforms.ToTensor(),\n",
    "        # transforms.Normalize([0.485, 0.456, 0.406], [0.229, 0.224, 0.225])\n",
    "    ]),\n",
    "    # 'val': transforms.Compose([\n",
    "    #     # add transform to convert grayscale to rgb        \n",
    "    #     transforms.ToPILImage(),\n",
    "    #     transforms.Grayscale(num_output_channels=3),\n",
    "    #     transforms.Resize(input_size),\n",
    "    #     transforms.CenterCrop(input_size),\n",
    "    #     transforms.ToTensor(),\n",
    "    #     transforms.Normalize([0.485, 0.456, 0.406], [0.229, 0.224, 0.225])\n",
    "    # ]),\n",
    "}\n",
    "\n",
    "# Detect if we have a GPU available\n",
    "device = torch.device(\"cuda:0\" if torch.cuda.is_available() else \"cpu\")"
   ]
  },
  {
   "cell_type": "code",
   "execution_count": 33,
   "metadata": {},
   "outputs": [
    {
     "name": "stdout",
     "output_type": "stream",
     "text": [
      "Params to learn:\n",
      "\t classifier.1.weight\n",
      "\t classifier.1.bias\n"
     ]
    }
   ],
   "source": [
    "# Send the model to GPU\n",
    "model_ft = model_ft.to(device)\n",
    "\n",
    "# Gather the parameters to be optimized/updated in this run. If we are\n",
    "#  finetuning we will be updating all parameters. However, if we are\n",
    "#  doing feature extract method, we will only update the parameters\n",
    "#  that we have just initialized, i.e. the parameters with requires_grad\n",
    "#  is True.\n",
    "params_to_update = model_ft.parameters()\n",
    "print(\"Params to learn:\")\n",
    "if feature_extract:\n",
    "    params_to_update = []\n",
    "    for name,param in model_ft.named_parameters():\n",
    "        if param.requires_grad == True:\n",
    "            params_to_update.append(param)\n",
    "            print(\"\\t\",name)\n",
    "else:\n",
    "    for name,param in model_ft.named_parameters():\n",
    "        if param.requires_grad == True:\n",
    "            print(\"\\t\",name)\n",
    "\n",
    "# Observe that all parameters are being optimized\n",
    "optimizer_ft = optim.SGD(params_to_update, lr=0.001, momentum=0.9)"
   ]
  },
  {
   "cell_type": "code",
   "execution_count": 45,
   "metadata": {},
   "outputs": [
    {
     "name": "stdout",
     "output_type": "stream",
     "text": [
      "x[0].shape: torch.Size([3, 224, 224])\n",
      "x shape: 50\n",
      "x[0].shape: torch.Size([3, 224, 224])\n"
     ]
    },
    {
     "data": {
      "image/png": "[encoded data removed]",
      "text/plain": [
       "<Figure size 640x480 with 1 Axes>"
      ]
     },
     "metadata": {},
     "output_type": "display_data"
    }
   ],
   "source": [
    "# Setup the loss function\n",
    "criterion = nn.CrossEntropyLoss()\n",
    "\n",
    "x = X_train[:50]   # TODO: use only 100 images for training for now\n",
    "y = y_train[:50]\n",
    "\n",
    "y = torch.tensor(y, dtype=torch.long)\n",
    "\n",
    "# plot a single transformed image\n",
    "plt.imshow(data_transforms['train'](x[0]).permute(1, 2, 0))\n",
    "\n",
    "# Apply the train data transforms on X_train\n",
    "x = [data_transforms['train'](x_i) for x_i in x]\n",
    "\n",
    "print(f'x[0].shape: {x[0].shape}')\n",
    "print(f'x shape: {len(x)}')\n",
    "\n",
    "# add batch dimension to x\n",
    "x = torch.stack(x)\n",
    "\n",
    "# for a single image, we need to add a batch dimension\n",
    "# x = x.unsqueeze(0)\n",
    "\n",
    "print(f'x[0].shape: {x[0].shape}')\n"
   ]
  },
  {
   "cell_type": "code",
   "execution_count": 46,
   "metadata": {},
   "outputs": [
    {
     "data": {
      "text/plain": [
       "torch.Size([50, 3, 224, 224])"
      ]
     },
     "execution_count": 46,
     "metadata": {},
     "output_type": "execute_result"
    }
   ],
   "source": [
    "x.shape"
   ]
  },
  {
   "cell_type": "code",
   "execution_count": 47,
   "metadata": {},
   "outputs": [
    {
     "name": "stdout",
     "output_type": "stream",
     "text": [
      "\n",
      "\n",
      "====Phase====: train\n",
      "running_loss: 9.176422119140625\n",
      "running_corrects: 1\n",
      "train Loss: 0.1835 Acc: 0.0200\n",
      "\n",
      "\n",
      "====Phase====: val\n",
      "running_loss: 6.928645133972168\n",
      "running_corrects: 3\n",
      "val Loss: 0.1386 Acc: 0.0600\n",
      "Training complete in 0m 0s\n",
      "val Acc: 0.060000\n"
     ]
    }
   ],
   "source": [
    "# Train and evaluate\n",
    "model_ft = train_model(model_ft, x, y, criterion, optimizer_ft, num_iterations=1, is_inception=(model_name==\"inception\"))"
   ]
  },
  {
   "attachments": {},
   "cell_type": "markdown",
   "metadata": {},
   "source": [
    "### Evaluate model on a few sample images"
   ]
  },
  {
   "cell_type": "code",
   "execution_count": 48,
   "metadata": {},
   "outputs": [
    {
     "name": "stdout",
     "output_type": "stream",
     "text": [
      "preds: tensor([0])\n",
      "y_i: 6\n",
      "preds: tensor([3])\n",
      "y_i: 5\n",
      "preds: tensor([3])\n",
      "y_i: 3\n",
      "preds: tensor([0])\n",
      "y_i: 4\n",
      "preds: tensor([3])\n",
      "y_i: 7\n",
      "preds: tensor([4])\n",
      "y_i: 8\n"
     ]
    },
    {
     "name": "stderr",
     "output_type": "stream",
     "text": [
      "[W NNPACK.cpp:53] Could not initialize NNPACK! Reason: Unsupported hardware.\n"
     ]
    }
   ],
   "source": [
    "\n",
    "model_ft.eval()\n",
    "with torch.no_grad():\n",
    "    for i in range(6):\n",
    "        x_i = x[i]\n",
    "        y_i = y[i]\n",
    "        x_i = x_i.unsqueeze(0)\n",
    "        x_i = x_i.to(device)\n",
    "        y_i = y_i.to(device)\n",
    "        output = model_ft(x_i)\n",
    "        _, preds = torch.max(output, 1)\n",
    "        print(f'preds: {preds}')\n",
    "        print(f'y_i: {y_i}')\n"
   ]
  },
  {
   "cell_type": "code",
   "execution_count": 49,
   "metadata": {},
   "outputs": [
    {
     "data": {
      "image/png": "[encoded data removed]",
      "text/plain": [
       "<Figure size 1000x500 with 6 Axes>"
      ]
     },
     "metadata": {},
     "output_type": "display_data"
    }
   ],
   "source": [
    "# plot some images\n",
    "fig, ax = plt.subplots(1, 6, figsize=(10, 5))\n",
    "for i in range(6):\n",
    "    img = x.permute(0, 2, 3, 1)[i]\n",
    "    ax[i].imshow(img, cmap='gray')\n",
    "    ax[i].axis('off')\n",
    "plt.show()"
   ]
  },
  {
   "cell_type": "code",
   "execution_count": null,
   "metadata": {},
   "outputs": [],
   "source": []
  }
 ],
 "metadata": {
  "kernelspec": {
   "display_name": "base",
   "language": "python",
   "name": "python3"
  },
  "language_info": {
   "codemirror_mode": {
    "name": "ipython",
    "version": 3
   },
   "file_extension": ".py",
   "mimetype": "text/x-python",
   "name": "python",
   "nbconvert_exporter": "python",
   "pygments_lexer": "ipython3",
   "version": "3.9.13"
  },
  "orig_nbformat": 4
 },
 "nbformat": 4,
 "nbformat_minor": 2
}
